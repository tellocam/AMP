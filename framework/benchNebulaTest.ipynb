{
 "cells": [
  {
   "cell_type": "code",
   "execution_count": 10,
   "metadata": {},
   "outputs": [
    {
     "name": "stdout",
     "output_type": "stream",
     "text": [
      "The matching lock name is: benchTATAS\n",
      "Starting Benchmark of benchTATASLock\n",
      "    threads  meanTime  stddTime  meanFail      stddFail      meanWait  \\\n",
      "0         2  0.002219  0.003849    521.88    480.592099  1.114700e-07   \n",
      "1         3  0.000225  0.001102   1256.69    229.728696  3.290100e-07   \n",
      "2         4  0.000053  0.000196   1367.38     99.559006  6.404500e-07   \n",
      "3         5  0.000147  0.000598   1624.68    615.193772  7.491300e-07   \n",
      "4         6  0.000191  0.000662   1838.59    226.120326  1.084450e-06   \n",
      "5         7  0.000258  0.000915   3858.93  13947.032067  1.525860e-06   \n",
      "6         8  0.000042  0.000121   9920.33  71140.886228  2.288500e-06   \n",
      "7         9  0.000178  0.000723   2878.63    598.140061  1.799600e-06   \n",
      "8        10  0.000045  0.000140   2865.33    265.018794  1.891550e-06   \n",
      "9        11  0.000032  0.000030   3313.51   2204.204290  2.327610e-06   \n",
      "10       12  0.000066  0.000251   3764.06   2127.784241  2.688690e-06   \n",
      "\n",
      "        stddWait  meanFair   stddFair        meanTP        stddTP  \n",
      "0   5.266601e-08     32.11  44.523004  4.193210e+06  3.634343e+06  \n",
      "1   4.930122e-08      9.29  17.917196  5.193285e+06  1.579235e+06  \n",
      "2   7.185329e-07     12.24   5.482919  4.620895e+06  1.270066e+06  \n",
      "3   1.328366e-07     20.09  12.828168  4.559706e+06  1.339284e+06  \n",
      "4   7.138872e-07     20.01   9.763703  4.064525e+06  1.456927e+06  \n",
      "5   2.474647e-06     19.97  15.645098  3.958396e+06  1.224941e+06  \n",
      "6   7.072726e-06     21.00   6.135145  4.035297e+06  8.291699e+05  \n",
      "7   3.316414e-07     23.82  11.662230  3.871219e+06  1.190913e+06  \n",
      "8   9.447585e-08     26.22   7.985712  4.185664e+06  9.535856e+05  \n",
      "9   4.938557e-07     19.58   7.130470  4.034542e+06  7.931367e+05  \n",
      "10  5.337138e-07     23.23   7.008359  3.783710e+06  9.799304e+05  \n"
     ]
    }
   ],
   "source": [
    "import ctypes\n",
    "import os\n",
    "import numpy as np\n",
    "import pandas as pd\n",
    "import matplotlib.pyplot as plt\n",
    "import utils\n",
    "\n",
    "import sys\n",
    "\n",
    "# # Check if the argument count is correct\n",
    "# if len(sys.argv) != 5:\n",
    "#     print(\"Usage: python myfile.py [int Threads] [int maxAcq] [int MaxIter] [int Sleepcycles] [string Lock]\")\n",
    "#     sys.exit(1)\n",
    "\n",
    "# # Access the argument\n",
    "# maxThreads = int(sys.argv[1])\n",
    "# maxAcq = int(sys.argv[2])\n",
    "# maxIter = int(sys.argv[3])\n",
    "# sleepCyles = int(sys.argv[4])\n",
    "# Lock = str(sys.argv[5])\n",
    "\n",
    "maxThreads = 12\n",
    "maxAcq = 100\n",
    "maxIter = 100\n",
    "sleepCyles = 1\n",
    "Lock = \"TATAS\"\n",
    "\n",
    "\n",
    "# set shared library\n",
    "binary = ctypes.CDLL( \"build/sharedLibrary.so\" )\n",
    "\n",
    "lockNameList = [\"benchLockOMP\", \"benchCriticalOMP\", \"benchTAS\", \"benchTATAS\", \n",
    "                \"benchTicket\", \"benchArray\", \"benchCLH\", \"benchMCS\", \"benchHemlock\"]\n",
    "\n",
    "for lock in lockNameList:\n",
    "    if Lock in lock:\n",
    "        lockName = lock\n",
    "        break  # Exit the loop once a match is found\n",
    "\n",
    "print(\"The matching lock name is:\", lockName)\n",
    "\n",
    "# Load the shared library\n",
    "\n",
    "\n",
    "# Access the function from the library\n",
    "function_name = 'benchTATAS'\n",
    "LockC = getattr(binary, lockName)\n",
    "\n",
    "LockC.restype = utils.benchData\n",
    "\n",
    "print(\"Starting Benchmark of \" + lockName + \"Lock\")\n",
    "\n",
    "\n",
    "threadNum = [i for i in range(2, maxThreads+1)]\n",
    "bmListLock = {threads: [LockC(threads, maxAcq, sleepCyles) for _ in range(maxIter)] for threads in threadNum}\n",
    "df = utils.dataframeBuilder(bmListLock).fillna(0)\n",
    "print(df)\n",
    "\n",
    "\n",
    "\n",
    "\n",
    "\n"
   ]
  },
  {
   "cell_type": "code",
   "execution_count": 15,
   "metadata": {},
   "outputs": [
    {
     "data": {
      "image/png": "[encoded data removed]",
      "text/plain": [
       "<Figure size 432x288 with 1 Axes>"
      ]
     },
     "metadata": {
      "needs_background": "light"
     },
     "output_type": "display_data"
    }
   ],
   "source": [
    "df = pd.read_csv('benchHemlock_THR12_ACQ1000_ITER1000_Nebula.txt', sep='\\t') \n",
    "\n",
    "utils.plotStuff(\"threads\", \"TP\", \"OMP Lock\", df, \"black\")"
   ]
  }
 ],
 "metadata": {
  "kernelspec": {
   "display_name": "Python 3",
   "language": "python",
   "name": "python3"
  },
  "language_info": {
   "codemirror_mode": {
    "name": "ipython",
    "version": 3
   },
   "file_extension": ".py",
   "mimetype": "text/x-python",
   "name": "python",
   "nbconvert_exporter": "python",
   "pygments_lexer": "ipython3",
   "version": "3.8.10"
  },
  "orig_nbformat": 4
 },
 "nbformat": 4,
 "nbformat_minor": 2
}
