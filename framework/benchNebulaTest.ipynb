{
 "cells": [
  {
   "cell_type": "code",
   "execution_count": 4,
   "metadata": {},
   "outputs": [
    {
     "ename": "TypeError",
     "evalue": "list indices must be integers or slices, not str",
     "output_type": "error",
     "traceback": [
      "\u001b[0;31m---------------------------------------------------------------------------\u001b[0m",
      "\u001b[0;31mTypeError\u001b[0m                                 Traceback (most recent call last)",
      "\u001b[0;32m/tmp/ipykernel_2364/3563852298.py\u001b[0m in \u001b[0;36m<module>\u001b[0;34m\u001b[0m\n\u001b[1;32m     34\u001b[0m \u001b[0;34m\u001b[0m\u001b[0m\n\u001b[1;32m     35\u001b[0m \u001b[0;32mfor\u001b[0m \u001b[0mi\u001b[0m \u001b[0;32min\u001b[0m \u001b[0mlockNameList\u001b[0m\u001b[0;34m:\u001b[0m\u001b[0;34m\u001b[0m\u001b[0;34m\u001b[0m\u001b[0m\n\u001b[0;32m---> 36\u001b[0;31m     \u001b[0;32mif\u001b[0m \u001b[0mLock\u001b[0m \u001b[0;32min\u001b[0m \u001b[0mlockNameList\u001b[0m\u001b[0;34m[\u001b[0m\u001b[0mi\u001b[0m\u001b[0;34m]\u001b[0m\u001b[0;34m:\u001b[0m\u001b[0;34m\u001b[0m\u001b[0;34m\u001b[0m\u001b[0m\n\u001b[0m\u001b[1;32m     37\u001b[0m         \u001b[0mlockName\u001b[0m \u001b[0;34m=\u001b[0m \u001b[0mlockNameList\u001b[0m\u001b[0;34m[\u001b[0m\u001b[0mi\u001b[0m\u001b[0;34m]\u001b[0m\u001b[0;34m\u001b[0m\u001b[0;34m\u001b[0m\u001b[0m\n\u001b[1;32m     38\u001b[0m \u001b[0;34m\u001b[0m\u001b[0m\n",
      "\u001b[0;31mTypeError\u001b[0m: list indices must be integers or slices, not str"
     ]
    }
   ],
   "source": [
    "import ctypes\n",
    "import os\n",
    "import numpy as np\n",
    "import pandas as pd\n",
    "import matplotlib.pyplot as plt\n",
    "import utils\n",
    "\n",
    "import sys\n",
    "\n",
    "# # Check if the argument count is correct\n",
    "# if len(sys.argv) != 5:\n",
    "#     print(\"Usage: python myfile.py [int Threads] [int maxAcq] [int MaxIter] [int Sleepcycles] [string Lock]\")\n",
    "#     sys.exit(1)\n",
    "\n",
    "# # Access the argument\n",
    "# maxThreads = int(sys.argv[1])\n",
    "# maxAcq = int(sys.argv[2])\n",
    "# maxIter = int(sys.argv[3])\n",
    "# sleepCyles = int(sys.argv[4])\n",
    "# Lock = str(sys.argv[5])\n",
    "\n",
    "maxThreads = 12\n",
    "maxAcq = 100\n",
    "maxIter = 100\n",
    "sleepCyles = 1\n",
    "Lock = \"TATAS\"\n",
    "\n",
    "\n",
    "# set shared library\n",
    "binary = ctypes.CDLL( \"build/sharedLibrary.so\" )\n",
    "\n",
    "lockNameList = [\"benchLockOMP\", \"benchCriticalOMP\", \"benchTAS\", \"benchTATAS\", \n",
    "                \"benchTicket\", \"benchArray\", \"benchCLH\", \"benchMCS\", \"benchHemlock\"]\n",
    "\n",
    "for lock in lockNameList:\n",
    "    if Lock in lock:\n",
    "        lockName = lock\n",
    "        break  # Exit the loop once a match is found\n",
    "\n",
    "print(\"The matching lock name is:\", lockName)\n",
    "\n",
    "LockC = getattr(sys.modules[__name__], lockName)\n",
    "\n",
    "binary.LockC.restype = utils.benchData\n",
    "\n",
    "print(\"Starting Benchmark of \" + lockName + \"Lock\")\n",
    "\n",
    "maxThreads = int(sys.argv[1])\n",
    "maxAcq = int(sys.argv[2])\n",
    "maxIter = int(sys.argv[3])\n",
    "sleepCyles = int(sys.argv[4])\n",
    "Lock = str(sys.argv[5])\n",
    "\n",
    "threadNum = [i for i in range(2, maxThreads+1)]\n",
    "bmListLock = {threads: [binary.LockC(threads, maxAcq, sleepCyles) for _ in range(maxIter)] for threads in threadNum}\n",
    "df = utils.dataframeBuilder(bmListLock).fillna(0)\n",
    "\n",
    "\n",
    "\n",
    "\n",
    "\n"
   ]
  }
 ],
 "metadata": {
  "kernelspec": {
   "display_name": "Python 3",
   "language": "python",
   "name": "python3"
  },
  "language_info": {
   "codemirror_mode": {
    "name": "ipython",
    "version": 3
   },
   "file_extension": ".py",
   "mimetype": "text/x-python",
   "name": "python",
   "nbconvert_exporter": "python",
   "pygments_lexer": "ipython3",
   "version": "3.8.10"
  },
  "orig_nbformat": 4
 },
 "nbformat": 4,
 "nbformat_minor": 2
}
